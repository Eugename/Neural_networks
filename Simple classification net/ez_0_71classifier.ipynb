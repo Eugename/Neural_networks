{
 "cells": [
  {
   "cell_type": "markdown",
   "id": "b6513004-7f2c-45ef-962d-666ced2e87a3",
   "metadata": {},
   "source": [
    "## Import ##"
   ]
  },
  {
   "cell_type": "code",
   "execution_count": 1,
   "id": "962a0235-2171-4f87-83d6-7f36b8478f0d",
   "metadata": {},
   "outputs": [],
   "source": [
    "import numpy as np\n",
    "import pandas as pd\n",
    "import torch\n",
    "from torch import nn\n",
    "from torch import optim\n",
    "import os\n",
    "from torch.utils.data import DataLoader, Dataset\n",
    "from torchvision.transforms import transforms, CenterCrop, RandomCrop, ToTensor, Normalize, Compose\n",
    "import cv2\n",
    "from PIL import Image\n",
    "import matplotlib.pyplot as plt\n",
    "import tqdm\n",
    "from sklearn.metrics import accuracy_score"
   ]
  },
  {
   "cell_type": "code",
   "execution_count": 2,
   "id": "cfeaffbf-492f-4925-93f6-45791116b52e",
   "metadata": {},
   "outputs": [],
   "source": [
    "device = torch.device('cuda' if torch.cuda.is_available() else 'cpu')"
   ]
  },
  {
   "cell_type": "markdown",
   "id": "a82c6d79-e747-41d7-b4d3-ed6955d27e16",
   "metadata": {},
   "source": [
    "## Data ##"
   ]
  },
  {
   "cell_type": "code",
   "execution_count": 20,
   "id": "4b09c58e-821f-4356-91fc-dcafd9333be2",
   "metadata": {},
   "outputs": [],
   "source": [
    "class MyData(Dataset):\n",
    "    def __init__(self, path, size = 250):\n",
    "        self.path = path\n",
    "        self.file_list = os.listdir(self.path)\n",
    "        self.size = size\n",
    "    \n",
    "    def __len__(self):\n",
    "        return len(self.file_list)\n",
    "    \n",
    "    def __getitem__(self, idx):\n",
    "        img = Image.open( os.path.join(self.path, self.file_list[idx] ) )\n",
    "        cmp = Compose([CenterCrop(self.size), \n",
    "                       ToTensor(), \n",
    "                      ])\n",
    "        l_str = str(self.file_list[idx])[:3]\n",
    "        if (l_str == 'cat'):\n",
    "            label = torch.Tensor([0, 1])\n",
    "        else: \n",
    "            label = torch.Tensor([1, 0])\n",
    "        return cmp(img), label"
   ]
  },
  {
   "cell_type": "code",
   "execution_count": 21,
   "id": "caa94d2a-d336-4448-b307-995f86ca396d",
   "metadata": {},
   "outputs": [],
   "source": [
    "ds = MyData('A:\\\\My files\\\\Datasets\\\\dogs-vs-cats\\\\train\\\\train')"
   ]
  },
  {
   "cell_type": "code",
   "execution_count": 22,
   "id": "0142584e-11f9-4360-b77e-cd9cff71488b",
   "metadata": {},
   "outputs": [],
   "source": [
    "#set_ds = DataLoader(ds, shuffle = True, batch_size = 5)"
   ]
  },
  {
   "cell_type": "code",
   "execution_count": 34,
   "id": "35d5845a-3e8f-41a5-86bf-91d97e5349ec",
   "metadata": {},
   "outputs": [],
   "source": [
    "train, test = torch.utils.data.random_split(ds, lengths = [int(round(len(ds)*0.7)), int(round(len(ds)*0.3))])\n",
    "train, test = DataLoader(train, shuffle = True, batch_size = 20), DataLoader(test, shuffle = True, batch_size = 20)"
   ]
  },
  {
   "cell_type": "markdown",
   "id": "479a1a11-4d02-40f3-b948-e838cabd77ab",
   "metadata": {
    "tags": []
   },
   "source": [
    "## Net ##"
   ]
  },
  {
   "cell_type": "code",
   "execution_count": 44,
   "id": "6a3b7521-eb34-46a2-a6a2-26a9924f9b43",
   "metadata": {},
   "outputs": [],
   "source": [
    "class NN(nn.Module):\n",
    "    def __init__(self,):\n",
    "        super(NN, self).__init__()\n",
    "        self.c1 = nn.Conv2d(3,6,1,1)\n",
    "        self.mp1 = nn.MaxPool2d(3,3)\n",
    "        self.c2 = nn.Conv2d(6,9,3,1)\n",
    "        self.c3 = nn.Conv2d(9,20,3,1)\n",
    "        self.c4 = nn.Conv2d(20,50,3,1)\n",
    "        self.c5 = nn.Conv2d(50,100,1,1)\n",
    "        self.ln1 = nn.Linear(400, 100) # 800\n",
    "        self.lr = nn.LeakyReLU()\n",
    "        self.ln2 = nn.Linear(100, 2)\n",
    "        self.b1 = nn.BatchNorm2d(6)\n",
    "        self.b2 = nn.BatchNorm2d(9)\n",
    "        self.b3 = nn.BatchNorm2d(20)\n",
    "        self.b4 = nn.BatchNorm2d(50)\n",
    "        self.b5 = nn.BatchNorm2d(100)\n",
    "        \n",
    "        \n",
    "        #self.skip_conv = nn.Conv2d(9,100,80,1)\n",
    "        \n",
    "    def forward(self, x):\n",
    "        x = self.c1(x) # 250 250\n",
    "        x = self.mp1(x) # 83 83\n",
    "        x = self.b1(x)\n",
    "        x = self.lr(x)\n",
    "        #x2 = self.c2(x) # 81 81\n",
    "        #x = self.mp1(x2) # 27 27\n",
    "        x = self.c2(x) # 81 81\n",
    "        x = self.mp1(x) # 27 27\n",
    "        x = self.b2(x)\n",
    "        x = self.lr(x)\n",
    "        x = self.c3(x) # 24 24\n",
    "        x = self.mp1(x) # 8 8\n",
    "        x = self.b3(x)\n",
    "        x = self.lr(x)\n",
    "        x = self.c4(x) # 6 6\n",
    "        x = self.mp1(x) # 2 2\n",
    "        x = self.b4(x)\n",
    "        x = self.lr(x)\n",
    "        x = self.c5(x) # 2 2\n",
    "        x = self.b5(x)\n",
    "        x = self.lr(x)\n",
    "        \n",
    "        #sk_xo = self.skip_conv(x2)\n",
    "        #x = torch.cat([x, sk_xo], dim = 1)\n",
    "        \n",
    "        x = x.view(x.size()[0], torch.prod(torch.tensor(x.size())[1:]) )\n",
    "        x = self.lr(x)\n",
    "        x = self.ln1(x)\n",
    "        x = self.lr(x)\n",
    "        x = self.ln2(x)\n",
    "        return x"
   ]
  },
  {
   "cell_type": "code",
   "execution_count": 45,
   "id": "a1f58f6a-5690-4928-ac2e-af6dc9d94173",
   "metadata": {},
   "outputs": [],
   "source": [
    "n = NN()"
   ]
  },
  {
   "cell_type": "code",
   "execution_count": 46,
   "id": "1626ab55-e178-4a72-8ffb-388e19816f58",
   "metadata": {},
   "outputs": [],
   "source": [
    "o = n(ds[0][0].view(1,3,250,250))"
   ]
  },
  {
   "cell_type": "code",
   "execution_count": 47,
   "id": "cb7aa0d9-c1cd-4877-8d0a-1a835bbf7793",
   "metadata": {
    "tags": []
   },
   "outputs": [
    {
     "data": {
      "text/plain": [
       "tensor([[-0.3485,  0.1472]], grad_fn=<AddmmBackward0>)"
      ]
     },
     "execution_count": 47,
     "metadata": {},
     "output_type": "execute_result"
    }
   ],
   "source": [
    "o"
   ]
  },
  {
   "cell_type": "code",
   "execution_count": 48,
   "id": "37705d90-9966-4ffd-861c-2c52b6064142",
   "metadata": {},
   "outputs": [
    {
     "data": {
      "text/plain": [
       "NN(\n",
       "  (c1): Conv2d(3, 6, kernel_size=(1, 1), stride=(1, 1))\n",
       "  (mp1): MaxPool2d(kernel_size=3, stride=3, padding=0, dilation=1, ceil_mode=False)\n",
       "  (c2): Conv2d(6, 9, kernel_size=(3, 3), stride=(1, 1))\n",
       "  (c3): Conv2d(9, 20, kernel_size=(3, 3), stride=(1, 1))\n",
       "  (c4): Conv2d(20, 50, kernel_size=(3, 3), stride=(1, 1))\n",
       "  (c5): Conv2d(50, 100, kernel_size=(1, 1), stride=(1, 1))\n",
       "  (ln1): Linear(in_features=400, out_features=100, bias=True)\n",
       "  (lr): LeakyReLU(negative_slope=0.01)\n",
       "  (ln2): Linear(in_features=100, out_features=2, bias=True)\n",
       "  (b1): BatchNorm2d(6, eps=1e-05, momentum=0.1, affine=True, track_running_stats=True)\n",
       "  (b2): BatchNorm2d(9, eps=1e-05, momentum=0.1, affine=True, track_running_stats=True)\n",
       "  (b3): BatchNorm2d(20, eps=1e-05, momentum=0.1, affine=True, track_running_stats=True)\n",
       "  (b4): BatchNorm2d(50, eps=1e-05, momentum=0.1, affine=True, track_running_stats=True)\n",
       "  (b5): BatchNorm2d(100, eps=1e-05, momentum=0.1, affine=True, track_running_stats=True)\n",
       ")"
      ]
     },
     "execution_count": 48,
     "metadata": {},
     "output_type": "execute_result"
    }
   ],
   "source": [
    "n.to(device)"
   ]
  },
  {
   "cell_type": "code",
   "execution_count": 49,
   "id": "7233ba03-6faf-410b-b9a2-001ca0f93169",
   "metadata": {},
   "outputs": [],
   "source": [
    "opt = optim.Adam(n.parameters())\n",
    "ls = nn.BCEWithLogitsLoss().to(device)"
   ]
  },
  {
   "cell_type": "markdown",
   "id": "2b69446a-aab5-4364-aa19-3cbec233ce9a",
   "metadata": {},
   "source": [
    "## Train-loop ##"
   ]
  },
  {
   "cell_type": "code",
   "execution_count": 50,
   "id": "9d2db38c-1f7a-43b3-a147-f0c72b54b04a",
   "metadata": {},
   "outputs": [],
   "source": [
    "def train_net(net, data, opt, loss, epochs, device):\n",
    "    for epoch in range(0, epochs, 1):\n",
    "        for X,y in tqdm.tqdm_notebook(data):\n",
    "            X = X.to(device)\n",
    "            y = y.to(device)\n",
    "            \n",
    "            opt.zero_grad()\n",
    "            o = net(X)\n",
    "            ls = loss(o, y)\n",
    "            ls.backward()\n",
    "            opt.step()"
   ]
  },
  {
   "cell_type": "code",
   "execution_count": 51,
   "id": "e272ee19-1c73-4328-89a1-2af209e14a45",
   "metadata": {},
   "outputs": [
    {
     "name": "stderr",
     "output_type": "stream",
     "text": [
      "c:\\python\\python36\\tf\\lib\\site-packages\\ipykernel_launcher.py:3: TqdmDeprecationWarning: This function will be removed in tqdm==5.0.0\n",
      "Please use `tqdm.notebook.tqdm` instead of `tqdm.tqdm_notebook`\n",
      "  This is separate from the ipykernel package so we can avoid doing imports until\n"
     ]
    },
    {
     "data": {
      "application/vnd.jupyter.widget-view+json": {
       "model_id": "78b980c357654b7dace2386cdc059de1",
       "version_major": 2,
       "version_minor": 0
      },
      "text/plain": [
       "  0%|          | 0/875 [00:00<?, ?it/s]"
      ]
     },
     "metadata": {},
     "output_type": "display_data"
    }
   ],
   "source": [
    "train_net(n, train, opt, ls, 1, device)"
   ]
  },
  {
   "cell_type": "code",
   "execution_count": null,
   "id": "fdc15a33-0102-41c0-88d3-9ad2fed8e3a3",
   "metadata": {},
   "outputs": [],
   "source": []
  },
  {
   "cell_type": "markdown",
   "id": "bc4dd064-988c-447d-9209-cf2cf54c63c9",
   "metadata": {},
   "source": [
    "Test"
   ]
  },
  {
   "cell_type": "code",
   "execution_count": 54,
   "id": "e5bbb2ef-1e71-4be3-a740-d90e953fc91e",
   "metadata": {},
   "outputs": [],
   "source": [
    "def forward_pass(model, Val_loader):\n",
    "    model.eval()\n",
    "    y_s = []\n",
    "    op_s = []\n",
    "    with torch.no_grad():\n",
    "        with tqdm.tqdm_notebook(Val_loader) as tq_val_data:\n",
    "            for i, (X,y) in enumerate(tq_val_data):\n",
    "                X = X.to(device)\n",
    "                y = y\n",
    "                \n",
    "                op = model(X)\n",
    "                y_s.append(y)\n",
    "                op_s.append(op)\n",
    "    return y_s, op_s"
   ]
  },
  {
   "cell_type": "code",
   "execution_count": 55,
   "id": "887fb60c-10a3-4517-bd08-79d50ad3c47f",
   "metadata": {
    "tags": []
   },
   "outputs": [
    {
     "name": "stderr",
     "output_type": "stream",
     "text": [
      "c:\\python\\python36\\tf\\lib\\site-packages\\ipykernel_launcher.py:6: TqdmDeprecationWarning: This function will be removed in tqdm==5.0.0\n",
      "Please use `tqdm.notebook.tqdm` instead of `tqdm.tqdm_notebook`\n",
      "  \n"
     ]
    },
    {
     "data": {
      "application/vnd.jupyter.widget-view+json": {
       "model_id": "8cc31c6974aa44deb4af4d915254c12e",
       "version_major": 2,
       "version_minor": 0
      },
      "text/plain": [
       "  0%|          | 0/375 [00:00<?, ?it/s]"
      ]
     },
     "metadata": {},
     "output_type": "display_data"
    }
   ],
   "source": [
    "y, op = forward_pass(n, test)"
   ]
  },
  {
   "cell_type": "code",
   "execution_count": 56,
   "id": "6f6da417-d6c3-4fdd-891e-c3016ebf87ba",
   "metadata": {
    "tags": []
   },
   "outputs": [],
   "source": [
    "y = np.array([lbl.cpu().detach().numpy() for lbl in y]).flatten()"
   ]
  },
  {
   "cell_type": "code",
   "execution_count": 57,
   "id": "08413a0e-3dd9-49cc-9c44-686dd8a398d2",
   "metadata": {},
   "outputs": [],
   "source": [
    "op = np.array([ans.cpu().detach().numpy() for ans in op]).flatten()"
   ]
  },
  {
   "cell_type": "code",
   "execution_count": 58,
   "id": "90556773-d9e0-498b-b3e8-f1142495a886",
   "metadata": {},
   "outputs": [
    {
     "data": {
      "text/plain": [
       "array([-0.15415221,  0.17216821, -1.8181978 , ..., -0.6338313 ,\n",
       "        0.4771213 , -0.5063829 ], dtype=float32)"
      ]
     },
     "execution_count": 58,
     "metadata": {},
     "output_type": "execute_result"
    }
   ],
   "source": [
    "op"
   ]
  },
  {
   "cell_type": "code",
   "execution_count": 59,
   "id": "5b72c8db-23df-446c-b15d-eb9a105cd51e",
   "metadata": {},
   "outputs": [],
   "source": [
    "op_ = np.where(op > 0.5, 1, 0)"
   ]
  },
  {
   "cell_type": "code",
   "execution_count": 60,
   "id": "d7f4f450-5c8a-4710-9b7f-29bdeb5074b0",
   "metadata": {},
   "outputs": [
    {
     "data": {
      "text/plain": [
       "0.7148"
      ]
     },
     "execution_count": 60,
     "metadata": {},
     "output_type": "execute_result"
    }
   ],
   "source": [
    "accuracy_score(y, op_)"
   ]
  },
  {
   "cell_type": "code",
   "execution_count": null,
   "id": "327e0465-3bcb-44c0-95d0-15b4895cc5c5",
   "metadata": {},
   "outputs": [],
   "source": []
  },
  {
   "cell_type": "code",
   "execution_count": null,
   "id": "4adc1818-48b4-4c4d-8b50-4f8881d14090",
   "metadata": {},
   "outputs": [],
   "source": []
  }
 ],
 "metadata": {
  "kernelspec": {
   "display_name": "Python 3",
   "language": "python",
   "name": "python3"
  },
  "language_info": {
   "codemirror_mode": {
    "name": "ipython",
    "version": 3
   },
   "file_extension": ".py",
   "mimetype": "text/x-python",
   "name": "python",
   "nbconvert_exporter": "python",
   "pygments_lexer": "ipython3",
   "version": "3.6.8"
  }
 },
 "nbformat": 4,
 "nbformat_minor": 5
}
